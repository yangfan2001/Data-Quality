{
 "cells": [
  {
   "cell_type": "code",
   "execution_count": 9,
   "id": "initial_id",
   "metadata": {
    "collapsed": true,
    "ExecuteTime": {
     "end_time": "2024-04-27T21:31:19.392946Z",
     "start_time": "2024-04-27T21:31:16.611893Z"
    }
   },
   "outputs": [
    {
     "name": "stdout",
     "output_type": "stream",
     "text": [
      "ChatCompletionMessage(content=\"In the realm of code, a tale is told,\\nOf recursion's power, fearless and bold.\\nA function that calls itself with grace,\\nRepeating steps in a mystical embrace.\\n\\nLike a mirror reflecting its own reflection,\\nRecursion dives deep, no hesitation.\\nBreaking problems into smaller parts,\\nIt unravels complexity with art.\\n\\nThrough loops of self-reference it wanders,\\nExploring depths, creating wonders.\\nEach iteration a step deeper still,\\nUntil the base case brings a thrill.\\n\\nA journey through layers, infinitely deep,\\nRecursion dances, never asleep.\\nA pattern of fractals, endlessly spun,\\nIn the magical world of code, it's second to none.\\n\\nSo embrace the recursive beauty within,\\nLet it lead you to victory, let it win.\\nFor in the land of programming, clear and bright,\\nRecursion shines like a beacon of light.\", role='assistant', function_call=None, tool_calls=None)\n"
     ]
    }
   ],
   "source": [
    "# configure GPT\n",
    "import os\n",
    "from openai import OpenAI\n",
    "api_key = \"\"\n",
    "client = OpenAI(api_key=api_key)\n",
    "completion = client.chat.completions.create(\n",
    "    model=\"gpt-3.5-turbo\",\n",
    "    messages=[\n",
    "        {\"role\": \"system\", \"content\": \"You are a data an\"},\n",
    "        {\"role\": \"user\", \"content\": \"Compose a poem that explains the concept of recursion in programming.\"}\n",
    "    ]\n",
    ")"
   ]
  },
  {
   "cell_type": "code",
   "execution_count": null,
   "outputs": [],
   "source": [
    "# read the dataset\n",
    "\n",
    "\n",
    "# prepare content to send"
   ],
   "metadata": {
    "collapsed": false
   },
   "id": "2e12c5bc7ac1ee2"
  }
 ],
 "metadata": {
  "kernelspec": {
   "display_name": "Python 3",
   "language": "python",
   "name": "python3"
  },
  "language_info": {
   "codemirror_mode": {
    "name": "ipython",
    "version": 2
   },
   "file_extension": ".py",
   "mimetype": "text/x-python",
   "name": "python",
   "nbconvert_exporter": "python",
   "pygments_lexer": "ipython2",
   "version": "2.7.6"
  }
 },
 "nbformat": 4,
 "nbformat_minor": 5
}
