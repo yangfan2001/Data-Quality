{
 "cells": [
  {
   "cell_type": "code",
   "execution_count": 11,
   "id": "initial_id",
   "metadata": {
    "collapsed": true,
    "ExecuteTime": {
     "end_time": "2024-05-04T22:50:22.306790Z",
     "start_time": "2024-05-04T22:50:21.988245Z"
    }
   },
   "outputs": [
    {
     "name": "stdout",
     "output_type": "stream",
     "text": [
      "Processing column X...\n",
      " Column X has 154 null values which will be ignored for model fitting.\n",
      "KNN on column X:\n",
      " Precision: 0.52\n",
      " Recall: 1.00\n",
      " No outliers missed.\n",
      "\n",
      "IForest on column X:\n",
      " Precision: 0.52\n",
      " Recall: 1.00\n",
      " No outliers missed.\n",
      "\n",
      "CBLOF on column X:\n",
      " Precision: 0.52\n",
      " Recall: 1.00\n",
      " No outliers missed.\n",
      "\n",
      "HBOS on column X:\n",
      " Precision: 1.00\n",
      " Recall: 0.80\n",
      " Missed outliers in X: [-43.4007710471978, -45.533692497905434, -49.719862867110606, -62.671891741751054, -59.7480675337795, -23.408138799205418, -76.96717882302401, -80.75006847463621, -28.01028369325615, -23.650805828245097, -48.64783564641969, -40.37882083926337, -41.13387117788644, -18.647646169780067, -43.20483249764212, -50.684293394257395, -70.13545704026929, -22.66444095445233, -41.54190622143173, -75.70139115264591, -42.29650804494018, -59.887571163197194, -81.18041812222665, -77.3114674335703, -32.39192141389017, -32.358231978526334, -54.1536266072315, -45.066194488684694, -22.053273976996728]\n",
      "\n",
      "LOF on column X:\n",
      " Precision: 0.23\n",
      " Recall: 0.44\n",
      " Missed outliers in X: [1.864983072754839, 31.356149445507896, -303.155245885824, -171.79002813474676, -43.4007710471978, -223.36227160411104, -194.28225616066055, 20.35525153368573, -244.74107768420367, -45.533692497905434, -230.9590411721568, 29.188610196957328, -8.880946226934114, -176.82048104054076, 33.54889886850124, -12.565338845308707, -283.4876160488585, 6.648452180265835, -143.72948077994005, -288.1188634151799, -170.11412430027343, -170.11924885098614, -231.0892460051415, -175.77146397159677, -167.82203361640575, -159.71626446897915, -23.408138799205418, -220.96895795486236, -28.01028369325615, -260.03591539068054, -224.15169387106624, -23.650805828245097, -15.576189228397034, -210.9223539568215, -40.37882083926337, 12.757623049757314, -41.13387117788644, -184.3461118175368, -18.647646169780067, -43.20483249764212, -279.75121128148913, -10.654347784177029, 21.985562160120892, 39.9623695970929, 12.019903757781933, -207.9859248049096, -216.7572145098241, -214.51541622586788, 7.518500065470747, -169.6377684744468, -22.66444095445233, -136.9893843066052, 32.65006127419451, -145.67664846697113, -241.3652329556386, -41.54190622143173, -177.1274110239898, -42.29650804494018, -212.58618080497575, -299.41571665785773, 5.849056866221886, -281.3674046114727, -0.2991859910052312, -183.3810367830452, -160.20331453069923, -32.39192141389017, -179.03317345686247, -32.358231978526334, -241.24377779943003, -151.0985359369163, 9.118703199331948, -12.594220876386352, -153.55007753826197, 2.153797565099083, -142.38954762540726, -45.066194488684694, -215.42595720372776, -182.55489278443213, 15.241481693116128, -261.32336938474407, -2.719055225463322, -22.053273976996728, -212.85327170318436]\n"
     ]
    },
    {
     "name": "stderr",
     "output_type": "stream",
     "text": [
      "/Users/yangfan/anaconda3/envs/myenv/lib/python3.8/site-packages/sklearn/cluster/_kmeans.py:1412: FutureWarning: The default value of `n_init` will change from 10 to 'auto' in 1.4. Set the value of `n_init` explicitly to suppress the warning\n",
      "  super()._check_params_vs_input(X, default_n_init=10)\n"
     ]
    },
    {
     "name": "stdout",
     "output_type": "stream",
     "text": [
      "OCSVM on column X:\n",
      " Precision: 0.52\n",
      " Recall: 1.00\n",
      " No outliers missed.\n",
      "\n",
      "PCA on column X:\n",
      " Precision: 0.45\n",
      " Recall: 0.86\n",
      " Missed outliers in X: [-126.99028743780822, -92.14294719578903, -99.5684596396643, -102.3033204167784, -118.77877900168158, -129.6702774780878, -82.70945568892705, -100.03057428600846, -76.96717882302401, -80.75006847463621, -98.8264620587111, -85.77455695045373, -116.75633348519682, -93.9720747761451, -81.55043300824808, -114.15906085404411, -136.9893843066052, -75.70139115264591, -81.18041812222665, -77.3114674335703]\n",
      "\n",
      "MCD on column X:\n",
      " Precision: 0.52\n",
      " Recall: 1.00\n",
      " No outliers missed.\n"
     ]
    },
    {
     "ename": "ValueError",
     "evalue": "n_features is set to 1. Not in the range of [2, 2147483647).",
     "output_type": "error",
     "traceback": [
      "\u001B[0;31m---------------------------------------------------------------------------\u001B[0m",
      "\u001B[0;31mValueError\u001B[0m                                Traceback (most recent call last)",
      "Cell \u001B[0;32mIn[11], line 64\u001B[0m\n\u001B[1;32m     62\u001B[0m     \u001B[38;5;28mprint\u001B[39m(\u001B[38;5;124mf\u001B[39m\u001B[38;5;124m\"\u001B[39m\u001B[38;5;124m Column \u001B[39m\u001B[38;5;132;01m{\u001B[39;00mcolumn\u001B[38;5;132;01m}\u001B[39;00m\u001B[38;5;124m has \u001B[39m\u001B[38;5;132;01m{\u001B[39;00mnum_nulls\u001B[38;5;132;01m}\u001B[39;00m\u001B[38;5;124m null values which will be ignored for model fitting.\u001B[39m\u001B[38;5;124m\"\u001B[39m)\n\u001B[1;32m     63\u001B[0m \u001B[38;5;28;01mfor\u001B[39;00m model \u001B[38;5;129;01min\u001B[39;00m models:\n\u001B[0;32m---> 64\u001B[0m     \u001B[43mevaluate_model\u001B[49m\u001B[43m(\u001B[49m\u001B[43mmodel\u001B[49m\u001B[43m,\u001B[49m\u001B[43m \u001B[49m\u001B[43mdataset\u001B[49m\u001B[43m,\u001B[49m\u001B[43m \u001B[49m\u001B[43mtracker\u001B[49m\u001B[43m,\u001B[49m\u001B[43m \u001B[49m\u001B[43mcolumn\u001B[49m\u001B[43m)\u001B[49m\n",
      "Cell \u001B[0;32mIn[11], line 28\u001B[0m, in \u001B[0;36mevaluate_model\u001B[0;34m(model, df, tracker, col)\u001B[0m\n\u001B[1;32m     26\u001B[0m \u001B[38;5;66;03m# Fit the model on non-null data\u001B[39;00m\n\u001B[1;32m     27\u001B[0m valid_data \u001B[38;5;241m=\u001B[39m df[col]\u001B[38;5;241m.\u001B[39mdropna()\u001B[38;5;241m.\u001B[39mto_frame()  \u001B[38;5;66;03m# Drop NaNs and convert to DataFrame for fitting\u001B[39;00m\n\u001B[0;32m---> 28\u001B[0m \u001B[43mmodel\u001B[49m\u001B[38;5;241;43m.\u001B[39;49m\u001B[43mfit\u001B[49m\u001B[43m(\u001B[49m\u001B[43mvalid_data\u001B[49m\u001B[43m)\u001B[49m\n\u001B[1;32m     30\u001B[0m \u001B[38;5;66;03m# Get non-null indices to align predictions with tracker\u001B[39;00m\n\u001B[1;32m     31\u001B[0m non_null_indices \u001B[38;5;241m=\u001B[39m valid_data\u001B[38;5;241m.\u001B[39mindex\n",
      "File \u001B[0;32m~/anaconda3/envs/myenv/lib/python3.8/site-packages/pyod/models/feature_bagging.py:232\u001B[0m, in \u001B[0;36mFeatureBagging.fit\u001B[0;34m(self, X, y)\u001B[0m\n\u001B[1;32m    228\u001B[0m \u001B[38;5;28mself\u001B[39m\u001B[38;5;241m.\u001B[39m_set_n_classes(y)\n\u001B[1;32m    230\u001B[0m \u001B[38;5;66;03m# expect at least 2 features, does not make sense if only have\u001B[39;00m\n\u001B[1;32m    231\u001B[0m \u001B[38;5;66;03m# 1 feature\u001B[39;00m\n\u001B[0;32m--> 232\u001B[0m \u001B[43mcheck_parameter\u001B[49m\u001B[43m(\u001B[49m\u001B[38;5;28;43mself\u001B[39;49m\u001B[38;5;241;43m.\u001B[39;49m\u001B[43mn_features_\u001B[49m\u001B[43m,\u001B[49m\u001B[43m \u001B[49m\u001B[43mlow\u001B[49m\u001B[38;5;241;43m=\u001B[39;49m\u001B[38;5;241;43m2\u001B[39;49m\u001B[43m,\u001B[49m\u001B[43m \u001B[49m\u001B[43minclude_left\u001B[49m\u001B[38;5;241;43m=\u001B[39;49m\u001B[38;5;28;43;01mTrue\u001B[39;49;00m\u001B[43m,\u001B[49m\n\u001B[1;32m    233\u001B[0m \u001B[43m                \u001B[49m\u001B[43mparam_name\u001B[49m\u001B[38;5;241;43m=\u001B[39;49m\u001B[38;5;124;43m'\u001B[39;49m\u001B[38;5;124;43mn_features\u001B[39;49m\u001B[38;5;124;43m'\u001B[39;49m\u001B[43m)\u001B[49m\n\u001B[1;32m    235\u001B[0m \u001B[38;5;66;03m# check parameters\u001B[39;00m\n\u001B[1;32m    236\u001B[0m \u001B[38;5;28mself\u001B[39m\u001B[38;5;241m.\u001B[39m_validate_estimator(default\u001B[38;5;241m=\u001B[39mLOF(n_jobs\u001B[38;5;241m=\u001B[39m\u001B[38;5;28mself\u001B[39m\u001B[38;5;241m.\u001B[39mn_jobs))\n",
      "File \u001B[0;32m~/anaconda3/envs/myenv/lib/python3.8/site-packages/pyod/utils/utility.py:88\u001B[0m, in \u001B[0;36mcheck_parameter\u001B[0;34m(param, low, high, param_name, include_left, include_right)\u001B[0m\n\u001B[1;32m     81\u001B[0m     \u001B[38;5;28;01mraise\u001B[39;00m \u001B[38;5;167;01mValueError\u001B[39;00m(\n\u001B[1;32m     82\u001B[0m         \u001B[38;5;124m'\u001B[39m\u001B[38;5;132;01m{param_name}\u001B[39;00m\u001B[38;5;124m is set to \u001B[39m\u001B[38;5;132;01m{param}\u001B[39;00m\u001B[38;5;124m. \u001B[39m\u001B[38;5;124m'\u001B[39m\n\u001B[1;32m     83\u001B[0m         \u001B[38;5;124m'\u001B[39m\u001B[38;5;124mNot in the range of [\u001B[39m\u001B[38;5;132;01m{low}\u001B[39;00m\u001B[38;5;124m, \u001B[39m\u001B[38;5;132;01m{high}\u001B[39;00m\u001B[38;5;124m].\u001B[39m\u001B[38;5;124m'\u001B[39m\u001B[38;5;241m.\u001B[39mformat(\n\u001B[1;32m     84\u001B[0m             param\u001B[38;5;241m=\u001B[39mparam, low\u001B[38;5;241m=\u001B[39mlow, high\u001B[38;5;241m=\u001B[39mhigh, param_name\u001B[38;5;241m=\u001B[39mparam_name))\n\u001B[1;32m     86\u001B[0m \u001B[38;5;28;01melif\u001B[39;00m (include_left \u001B[38;5;129;01mand\u001B[39;00m \u001B[38;5;129;01mnot\u001B[39;00m include_right) \u001B[38;5;129;01mand\u001B[39;00m (\n\u001B[1;32m     87\u001B[0m         param \u001B[38;5;241m<\u001B[39m low \u001B[38;5;129;01mor\u001B[39;00m param \u001B[38;5;241m>\u001B[39m\u001B[38;5;241m=\u001B[39m high):\n\u001B[0;32m---> 88\u001B[0m     \u001B[38;5;28;01mraise\u001B[39;00m \u001B[38;5;167;01mValueError\u001B[39;00m(\n\u001B[1;32m     89\u001B[0m         \u001B[38;5;124m'\u001B[39m\u001B[38;5;132;01m{param_name}\u001B[39;00m\u001B[38;5;124m is set to \u001B[39m\u001B[38;5;132;01m{param}\u001B[39;00m\u001B[38;5;124m. \u001B[39m\u001B[38;5;124m'\u001B[39m\n\u001B[1;32m     90\u001B[0m         \u001B[38;5;124m'\u001B[39m\u001B[38;5;124mNot in the range of [\u001B[39m\u001B[38;5;132;01m{low}\u001B[39;00m\u001B[38;5;124m, \u001B[39m\u001B[38;5;132;01m{high}\u001B[39;00m\u001B[38;5;124m).\u001B[39m\u001B[38;5;124m'\u001B[39m\u001B[38;5;241m.\u001B[39mformat(\n\u001B[1;32m     91\u001B[0m             param\u001B[38;5;241m=\u001B[39mparam, low\u001B[38;5;241m=\u001B[39mlow, high\u001B[38;5;241m=\u001B[39mhigh, param_name\u001B[38;5;241m=\u001B[39mparam_name))\n\u001B[1;32m     93\u001B[0m \u001B[38;5;28;01melif\u001B[39;00m (\u001B[38;5;129;01mnot\u001B[39;00m include_left \u001B[38;5;129;01mand\u001B[39;00m include_right) \u001B[38;5;129;01mand\u001B[39;00m (\n\u001B[1;32m     94\u001B[0m         param \u001B[38;5;241m<\u001B[39m\u001B[38;5;241m=\u001B[39m low \u001B[38;5;129;01mor\u001B[39;00m param \u001B[38;5;241m>\u001B[39m high):\n\u001B[1;32m     95\u001B[0m     \u001B[38;5;28;01mraise\u001B[39;00m \u001B[38;5;167;01mValueError\u001B[39;00m(\n\u001B[1;32m     96\u001B[0m         \u001B[38;5;124m'\u001B[39m\u001B[38;5;132;01m{param_name}\u001B[39;00m\u001B[38;5;124m is set to \u001B[39m\u001B[38;5;132;01m{param}\u001B[39;00m\u001B[38;5;124m. \u001B[39m\u001B[38;5;124m'\u001B[39m\n\u001B[1;32m     97\u001B[0m         \u001B[38;5;124m'\u001B[39m\u001B[38;5;124mNot in the range of (\u001B[39m\u001B[38;5;132;01m{low}\u001B[39;00m\u001B[38;5;124m, \u001B[39m\u001B[38;5;132;01m{high}\u001B[39;00m\u001B[38;5;124m].\u001B[39m\u001B[38;5;124m'\u001B[39m\u001B[38;5;241m.\u001B[39mformat(\n\u001B[1;32m     98\u001B[0m             param\u001B[38;5;241m=\u001B[39mparam, low\u001B[38;5;241m=\u001B[39mlow, high\u001B[38;5;241m=\u001B[39mhigh, param_name\u001B[38;5;241m=\u001B[39mparam_name))\n",
      "\u001B[0;31mValueError\u001B[0m: n_features is set to 1. Not in the range of [2, 2147483647)."
     ]
    }
   ],
   "source": [
    "import pandas as pd\n",
    "import numpy as np\n",
    "from pyod.models.knn import KNN\n",
    "from pyod.models.iforest import IForest\n",
    "from pyod.models.cblof import CBLOF\n",
    "from pyod.models.hbos import HBOS\n",
    "from pyod.models.lof import LOF\n",
    "from pyod.models.ocsvm import OCSVM\n",
    "from pyod.models.pca import PCA\n",
    "from pyod.models.mcd import MCD\n",
    "from pyod.models.feature_bagging import FeatureBagging\n",
    "\n",
    "# Load datasets\n",
    "dataset = pd.read_csv('test_num1.csv')\n",
    "tracker = pd.read_csv('test_num1_tracker.csv')\n",
    "\n",
    "# List of models to apply\n",
    "models = [KNN(), IForest(), CBLOF(), HBOS(), LOF(), OCSVM(), PCA(), MCD(), FeatureBagging(base_estimator=LOF(), n_estimators=10)]\n",
    "\n",
    "def evaluate_model(model, df, tracker, col):\n",
    "    # Check if column is contaminated\n",
    "    if tracker[col].eq(1).all():\n",
    "        print(f\"Column {col} has not been contaminated, skipping detection.\")\n",
    "        return\n",
    "\n",
    "    # Fit the model on non-null data\n",
    "    valid_data = df[col].dropna().to_frame()  # Drop NaNs and convert to DataFrame for fitting\n",
    "    model.fit(valid_data)\n",
    "\n",
    "    # Get non-null indices to align predictions with tracker\n",
    "    non_null_indices = valid_data.index\n",
    "\n",
    "    # Predict the outliers: 0 for normal, 1 for outlier\n",
    "    predictions = np.zeros(df.shape[0])  # Initialize predictions array with zeros (consider NaN as normal)\n",
    "    predictions[non_null_indices] = model.labels_  # Only update non-NaN indices\n",
    "\n",
    "    # Tracker comparison\n",
    "    actual_outliers = tracker[col] == 5\n",
    "    predicted_outliers = predictions == 1\n",
    "\n",
    "    true_positives = np.sum(predicted_outliers & actual_outliers)\n",
    "    false_negatives = actual_outliers & ~predicted_outliers\n",
    "\n",
    "    precision = true_positives / np.sum(predicted_outliers) if np.sum(predicted_outliers) > 0 else 0\n",
    "    recall = true_positives / np.sum(actual_outliers) if np.sum(actual_outliers) > 0 else 0\n",
    "\n",
    "    # Output results\n",
    "    print(f\"{model.__class__.__name__} on column {col}:\")\n",
    "    print(f\" Precision: {precision:.2f}\")\n",
    "    print(f\" Recall: {recall:.2f}\")\n",
    "    if np.any(false_negatives):\n",
    "        print(f\" Missed outliers in {col}: {df.loc[false_negatives, col].tolist()}\\n\")\n",
    "    else:\n",
    "        print(\" No outliers missed.\\n\")\n",
    "\n",
    "# Applying models to each numeric column\n",
    "for column in dataset.columns:\n",
    "    if dataset[column].dtype == np.int64 or dataset[column].dtype == np.float64:\n",
    "        print(f\"Processing column {column}...\")\n",
    "        num_nulls = dataset[column].isnull().sum()\n",
    "        if num_nulls > 0:\n",
    "            print(f\" Column {column} has {num_nulls} null values which will be ignored for model fitting.\")\n",
    "        for model in models:\n",
    "            evaluate_model(model, dataset, tracker, column)"
   ]
  },
  {
   "cell_type": "code",
   "execution_count": null,
   "outputs": [],
   "source": [],
   "metadata": {
    "collapsed": false
   },
   "id": "e644a5b22baeb77f"
  }
 ],
 "metadata": {
  "kernelspec": {
   "display_name": "Python 3",
   "language": "python",
   "name": "python3"
  },
  "language_info": {
   "codemirror_mode": {
    "name": "ipython",
    "version": 2
   },
   "file_extension": ".py",
   "mimetype": "text/x-python",
   "name": "python",
   "nbconvert_exporter": "python",
   "pygments_lexer": "ipython2",
   "version": "2.7.6"
  }
 },
 "nbformat": 4,
 "nbformat_minor": 5
}
